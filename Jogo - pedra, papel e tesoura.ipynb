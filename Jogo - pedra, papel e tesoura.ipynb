{
 "cells": [
  {
   "cell_type": "code",
   "execution_count": 1,
   "id": "f41b3c34",
   "metadata": {},
   "outputs": [],
   "source": [
    "# Jogo Pedra, Papel ou Tesoura.\n",
    "\n",
    "opcoes = ('PEDRA', 'PAPEL', 'TESOURA')\n",
    "\n",
    "def jogador():\n",
    "    jogada = input(\"Qual é a sua jogada? \")\n",
    "    if jogada not in (\"1\",\"2\",\"3\"):\n",
    "        return jogador()\n",
    "    else:\n",
    "        jogada = int(jogada)\n",
    "        print(f\"Você escolheu {opcoes[jogada-1]}\")\n",
    "        return jogada\n",
    "    \n",
    "def jogo_pedra_papel_tesoura():\n",
    "    from random import randint\n",
    "    computador = randint(0,2)\n",
    "    print('\\033[1m' + \"Jogo: Pedra, Papel e Tesoura.\" + '\\033[0m')\n",
    "    print('''Suas opções:\n",
    "    [ 1 ] PEDRA\n",
    "    [ 2 ] PAPEL\n",
    "    [ 3 ] TESOURA''')\n",
    "    print()\n",
    "    jogador_resposta = jogador()\n",
    "    print(f\"O computador escolheu {opcoes[computador]}\")\n",
    "    if computador == 0:  # computador jogou PEDRA\n",
    "        if jogador_resposta == 1:  # jogador jogou PEDRA\n",
    "            print(\"Deu empate.\")\n",
    "        elif jogador_resposta == 2:  # jogador jogou PAPEL\n",
    "            print(\"Você venceu!\")\n",
    "        elif jogador_resposta == 3:  # jogador jogou TESOURA\n",
    "            print(\"Computador venceu.\")\n",
    "    elif computador == 1:  # computador jogou PAPEL\n",
    "        if jogador_resposta == 1:  # jogador jogou PEDRA\n",
    "            print(\"Computador venceu.\") \n",
    "        elif jogador_resposta == 2:  # jogador jogou PAPEL\n",
    "            print(\"Deu empate.\")\n",
    "        elif jogador_resposta == 3:  # jogador jogou TESOURA\n",
    "            print(\"Você venceu!\")\n",
    "    elif computador == 2:  # computador jogou TESOURA\n",
    "        if jogador_resposta == 1:  # jogador jogou PEDRA\n",
    "            print(\"Você venceu!\") \n",
    "        elif jogador_resposta == 2:  # jogador jogou PAPEL\n",
    "            print(\"Computador venceu.\")\n",
    "        elif jogador_resposta == 3:  # jogador jogou TESOURA\n",
    "            print(\"Deu empate.\")\n",
    "            "
   ]
  },
  {
   "cell_type": "code",
   "execution_count": 2,
   "id": "df53c0da",
   "metadata": {},
   "outputs": [],
   "source": [
    "def pedra_papel_tesoura():\n",
    "    continuar = True\n",
    "    while continuar == True:\n",
    "        print()\n",
    "        pergunta = input(\"Vamos jogar? [S/N] \")\n",
    "        if pergunta.upper() == \"S\":\n",
    "            print(\"Legal!\")\n",
    "            jogo_pedra_papel_tesoura()\n",
    "        else:\n",
    "            print(\"Tchau, até a próxima!\")\n",
    "            continuar = False \n",
    "            "
   ]
  },
  {
   "cell_type": "code",
   "execution_count": 3,
   "id": "84f83cf4",
   "metadata": {},
   "outputs": [
    {
     "name": "stdout",
     "output_type": "stream",
     "text": [
      "\n",
      "Vamos jogar? [S/N] s\n",
      "Legal!\n",
      "\u001b[1mJogo: Pedra, Papel e Tesoura.\u001b[0m\n",
      "Suas opções:\n",
      "    [ 1 ] PEDRA\n",
      "    [ 2 ] PAPEL\n",
      "    [ 3 ] TESOURA\n",
      "\n",
      "Qual é a sua jogada? 3\n",
      "Você escolheu TESOURA\n",
      "O computador escolheu PAPEL\n",
      "Você venceu!\n",
      "\n",
      "Vamos jogar? [S/N] n\n",
      "Tchau, até a próxima!\n"
     ]
    }
   ],
   "source": [
    "pedra_papel_tesoura()"
   ]
  },
  {
   "cell_type": "code",
   "execution_count": null,
   "id": "f6c56309",
   "metadata": {},
   "outputs": [],
   "source": []
  }
 ],
 "metadata": {
  "kernelspec": {
   "display_name": "Python 3 (ipykernel)",
   "language": "python",
   "name": "python3"
  },
  "language_info": {
   "codemirror_mode": {
    "name": "ipython",
    "version": 3
   },
   "file_extension": ".py",
   "mimetype": "text/x-python",
   "name": "python",
   "nbconvert_exporter": "python",
   "pygments_lexer": "ipython3",
   "version": "3.9.12"
  },
  "toc": {
   "base_numbering": 1,
   "nav_menu": {},
   "number_sections": true,
   "sideBar": true,
   "skip_h1_title": false,
   "title_cell": "Table of Contents",
   "title_sidebar": "Contents",
   "toc_cell": false,
   "toc_position": {},
   "toc_section_display": true,
   "toc_window_display": false
  },
  "varInspector": {
   "cols": {
    "lenName": 16,
    "lenType": 16,
    "lenVar": 40
   },
   "kernels_config": {
    "python": {
     "delete_cmd_postfix": "",
     "delete_cmd_prefix": "del ",
     "library": "var_list.py",
     "varRefreshCmd": "print(var_dic_list())"
    },
    "r": {
     "delete_cmd_postfix": ") ",
     "delete_cmd_prefix": "rm(",
     "library": "var_list.r",
     "varRefreshCmd": "cat(var_dic_list()) "
    }
   },
   "types_to_exclude": [
    "module",
    "function",
    "builtin_function_or_method",
    "instance",
    "_Feature"
   ],
   "window_display": false
  }
 },
 "nbformat": 4,
 "nbformat_minor": 5
}
